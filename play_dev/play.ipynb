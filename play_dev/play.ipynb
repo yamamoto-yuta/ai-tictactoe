{
 "cells": [
  {
   "cell_type": "code",
   "execution_count": 162,
   "metadata": {},
   "outputs": [
    {
     "data": {
      "text/plain": [
       "<module 'tictactoe_env' from '/Users/techmu/Documents/pj_2019-b3-new-display/ai-tictactoe/play_dev/tictactoe_env.py'>"
      ]
     },
     "execution_count": 162,
     "metadata": {},
     "output_type": "execute_result"
    }
   ],
   "source": [
    "import numpy as np\n",
    "from copy import deepcopy\n",
    "\n",
    "from keras.models import load_model\n",
    "import tictactoe_env\n",
    "\n",
    "import importlib\n",
    "importlib.reload(tictactoe_env)"
   ]
  },
  {
   "cell_type": "code",
   "execution_count": 163,
   "metadata": {},
   "outputs": [],
   "source": [
    "# 学習済みモデルを読み込み\n",
    "model = load_model('../train/my_model.h5')"
   ]
  },
  {
   "cell_type": "code",
   "execution_count": 174,
   "metadata": {},
   "outputs": [],
   "source": [
    "# OXゲームクラスをインスタンス化\n",
    "env = tictactoe_env.TictactoeEnv()"
   ]
  },
  {
   "cell_type": "code",
   "execution_count": 165,
   "metadata": {},
   "outputs": [
    {
     "data": {
      "text/plain": [
       "[0, 1, 2, 3, 4, 5, 6, 7, 8]"
      ]
     },
     "execution_count": 165,
     "metadata": {},
     "output_type": "execute_result"
    }
   ],
   "source": [
    "# おけるマスの座標をリストアップ\n",
    "can_put_idx = [idx for idx, cell in enumerate(env.board) if cell == env.E_ID]\n",
    "\n",
    "can_put_idx"
   ]
  },
  {
   "cell_type": "code",
   "execution_count": 166,
   "metadata": {},
   "outputs": [
    {
     "data": {
      "text/plain": [
       "array([[-1,  0,  0,  0,  0,  0,  0,  0,  0],\n",
       "       [ 0, -1,  0,  0,  0,  0,  0,  0,  0],\n",
       "       [ 0,  0, -1,  0,  0,  0,  0,  0,  0],\n",
       "       [ 0,  0,  0, -1,  0,  0,  0,  0,  0],\n",
       "       [ 0,  0,  0,  0, -1,  0,  0,  0,  0],\n",
       "       [ 0,  0,  0,  0,  0, -1,  0,  0,  0],\n",
       "       [ 0,  0,  0,  0,  0,  0, -1,  0,  0],\n",
       "       [ 0,  0,  0,  0,  0,  0,  0, -1,  0],\n",
       "       [ 0,  0,  0,  0,  0,  0,  0,  0, -1]], dtype=int32)"
      ]
     },
     "execution_count": 166,
     "metadata": {},
     "output_type": "execute_result"
    }
   ],
   "source": [
    "# 置けるパターンを全て格納\n",
    "pred_boards = []\n",
    "for idx in can_put_idx:\n",
    "    board = deepcopy(env.board)\n",
    "    board[idx] = env.current_player\n",
    "    pred_boards.append(board)\n",
    "pred_boards = np.array(pred_boards)\n",
    "pred_boards"
   ]
  },
  {
   "cell_type": "code",
   "execution_count": 167,
   "metadata": {},
   "outputs": [
    {
     "data": {
      "text/plain": [
       "4"
      ]
     },
     "execution_count": 167,
     "metadata": {},
     "output_type": "execute_result"
    }
   ],
   "source": [
    "# 最も勝てる確率の高いパターンを決定\n",
    "pred = model.predict(pred_board)\n",
    "np.argmax([p[0] for p in pred])"
   ]
  },
  {
   "cell_type": "code",
   "execution_count": 168,
   "metadata": {},
   "outputs": [
    {
     "data": {
      "text/plain": [
       "array([[1.5380043e-13, 1.5458373e-03, 9.9845421e-01],\n",
       "       [1.1806880e-19, 2.1600226e-07, 9.9999976e-01],\n",
       "       [5.4162741e-17, 1.9765864e-06, 9.9999797e-01],\n",
       "       [2.5083810e-18, 4.4512581e-07, 9.9999952e-01],\n",
       "       [2.3593795e-13, 1.3806598e-03, 9.9861932e-01],\n",
       "       [7.1632840e-18, 1.2440331e-06, 9.9999881e-01],\n",
       "       [8.4628655e-16, 7.6754848e-05, 9.9992323e-01],\n",
       "       [2.9716727e-16, 7.3516290e-05, 9.9992645e-01],\n",
       "       [2.2495728e-15, 1.3460254e-04, 9.9986541e-01]], dtype=float32)"
      ]
     },
     "execution_count": 168,
     "metadata": {},
     "output_type": "execute_result"
    }
   ],
   "source": [
    "pred"
   ]
  },
  {
   "cell_type": "code",
   "execution_count": 144,
   "metadata": {},
   "outputs": [
    {
     "data": {
      "text/plain": [
       "1.0"
      ]
     },
     "execution_count": 144,
     "metadata": {},
     "output_type": "execute_result"
    }
   ],
   "source": [
    "pred[1].sum()"
   ]
  },
  {
   "cell_type": "code",
   "execution_count": 159,
   "metadata": {},
   "outputs": [],
   "source": [
    "def cpu(env):\n",
    "    # 自分が勝てる確率の閾値\n",
    "    TH_PRED_P_WIN = 0.05\n",
    "    \n",
    "    # おけるマスの座標をリストアップ\n",
    "    can_put_idx = [idx for idx, cell in enumerate(env.board) if cell == env.E_ID]\n",
    "    \n",
    "    # 置けるパターンを全て格納\n",
    "    pred_boards = []\n",
    "    for idx in can_put_idx:\n",
    "        board = deepcopy(env.board)\n",
    "        board[idx] = env.current_player\n",
    "        pred_boards.append(board)\n",
    "    pred_boards = np.array(pred_boards)\n",
    "\n",
    "    # 各パターンで勝敗の確率を計算\n",
    "    pred = model.predict(pred_board)\n",
    "    \n",
    "    # 自分が一番勝てる確率と敵が一番負ける確率が高いパターンをそれぞれ決定\n",
    "    # - (x, -, y) = (-1, 0, 1) に+1して添字に利用\n",
    "    pred_p_id = env.current_player + 1\n",
    "    pred_e_id = -env.current_player + 1\n",
    "    best_p_win_pred = np.argmax([p[pred_p_id] for p in pred])\n",
    "    best_e_lose_pred = np.argmax([p[pred_e_id] for p in pred])\n",
    "    \n",
    "    # パターンを決定\n",
    "    if pred_p_id >= TH_PRED_P_WIN:\n",
    "        # 自分が一番勝てる確率が閾値以上ならそうする\n",
    "        best_pred = best_p_win_pred\n",
    "    else:\n",
    "        # 閾値未満なら、敵が一番負けるようにする\n",
    "        best_pred = best_e_lose_pred\n",
    "    \n",
    "    # 決定したパターンで置く座標を返す\n",
    "    return can_put_idx[best_pred]"
   ]
  },
  {
   "cell_type": "code",
   "execution_count": 169,
   "metadata": {},
   "outputs": [
    {
     "data": {
      "text/plain": [
       "array([[ 0, -1,  0],\n",
       "       [ 0,  0,  0],\n",
       "       [ 0,  0,  0]], dtype=int32)"
      ]
     },
     "execution_count": 169,
     "metadata": {},
     "output_type": "execute_result"
    }
   ],
   "source": [
    "env.put(cpu(env))\n",
    "\n",
    "env.board.reshape(3, 3)"
   ]
  },
  {
   "cell_type": "code",
   "execution_count": 170,
   "metadata": {},
   "outputs": [
    {
     "data": {
      "text/plain": [
       "array([[ 0, -1,  0],\n",
       "       [ 0,  1,  0],\n",
       "       [ 0,  0,  0]], dtype=int32)"
      ]
     },
     "execution_count": 170,
     "metadata": {},
     "output_type": "execute_result"
    }
   ],
   "source": [
    "env.put(4)\n",
    "\n",
    "env.board.reshape(3, 3)"
   ]
  },
  {
   "cell_type": "code",
   "execution_count": 171,
   "metadata": {},
   "outputs": [
    {
     "data": {
      "text/plain": [
       "array([[ 0, -1, -1],\n",
       "       [ 0,  1,  0],\n",
       "       [ 0,  0,  0]], dtype=int32)"
      ]
     },
     "execution_count": 171,
     "metadata": {},
     "output_type": "execute_result"
    }
   ],
   "source": [
    "env.put(cpu(env))\n",
    "\n",
    "env.board.reshape(3, 3)"
   ]
  },
  {
   "cell_type": "code",
   "execution_count": 172,
   "metadata": {},
   "outputs": [
    {
     "data": {
      "text/plain": [
       "array([[ 1, -1, -1],\n",
       "       [ 0,  1,  0],\n",
       "       [ 0,  0,  0]], dtype=int32)"
      ]
     },
     "execution_count": 172,
     "metadata": {},
     "output_type": "execute_result"
    }
   ],
   "source": [
    "env.put(0)\n",
    "\n",
    "env.board.reshape(3, 3)"
   ]
  },
  {
   "cell_type": "code",
   "execution_count": 173,
   "metadata": {},
   "outputs": [
    {
     "data": {
      "text/plain": [
       "array([[ 1, -1, -1],\n",
       "       [ 0,  1, -1],\n",
       "       [ 0,  0,  0]], dtype=int32)"
      ]
     },
     "execution_count": 173,
     "metadata": {},
     "output_type": "execute_result"
    }
   ],
   "source": [
    "env.put(cpu(env))\n",
    "\n",
    "env.board.reshape(3, 3)"
   ]
  },
  {
   "cell_type": "code",
   "execution_count": null,
   "metadata": {},
   "outputs": [],
   "source": []
  }
 ],
 "metadata": {
  "kernelspec": {
   "display_name": "Python 3",
   "language": "python",
   "name": "python3"
  },
  "language_info": {
   "codemirror_mode": {
    "name": "ipython",
    "version": 3
   },
   "file_extension": ".py",
   "mimetype": "text/x-python",
   "name": "python",
   "nbconvert_exporter": "python",
   "pygments_lexer": "ipython3",
   "version": "3.7.2"
  }
 },
 "nbformat": 4,
 "nbformat_minor": 4
}
