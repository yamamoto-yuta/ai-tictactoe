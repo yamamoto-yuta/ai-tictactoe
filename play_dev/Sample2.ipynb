{
 "cells": [
  {
   "cell_type": "code",
   "execution_count": 1,
   "metadata": {},
   "outputs": [
    {
     "name": "stdout",
     "output_type": "stream",
     "text": [
      "[[ 0  0  0  0  0  0  0  0  0  0]\n",
      " [ 0  0  0  0  0  0  0  0  0  0]\n",
      " [ 0  0  0  0  0  0  0  0  0  0]\n",
      " [ 0  0  0  0  0  1  1  1  0  0]\n",
      " [ 0  0  0  0  0  1 -1  1  0  0]\n",
      " [ 0  0  0  0  0  1  1  2  1  1]\n",
      " [ 0  0  0  0  0  0  0  1 -1  1]\n",
      " [ 0  1  1  1  0  0  0  1  1  1]\n",
      " [ 0  1 -1  1  0  0  0  0  0  0]\n",
      " [ 0  1  1  1  0  0  0  0  0  0]]\n",
      "(5, 1) {}\n",
      "select open\n",
      "(8, 2) {}\n",
      "select open\n"
     ]
    }
   ],
   "source": [
    "import PySimpleGUI as sg\n",
    "from random import randint\n",
    "import numpy as np\n",
    "from scipy import signal\n",
    "MAX_ROWS = MAX_COL = 10\n",
    "board = [[randint(0,1) for j in range(MAX_COL)] for i in range(MAX_ROWS)]\n",
    "board = np.zeros(MAX_ROWS*MAX_COL).astype(np.int)\n",
    "idx = np.random.choice(len(board), 3, replace=False) # 爆弾をランダムに3箇所設置\n",
    "board[idx] = 1\n",
    "board = board.reshape(MAX_ROWS, MAX_COL).tolist()\n",
    "filter = np.array([ # 二次元畳み込みで爆弾の数をカウント\n",
    "    [1,1,1],\n",
    "    [1,0,1],\n",
    "    [1,1,1]\n",
    "    ])\n",
    "counter = signal.convolve2d(board, filter, 'full') # 畳み込みとサイズが大きくなるので、\n",
    "board = counter[1:-1,1:-1] - board # スライスする。ここでboardを引くことで、爆弾マスは-1になる\n",
    "print (board)\n",
    "board = board.tolist()\n",
    "layout =  [[sg.Button('?', size=(4, 2), key=(i,j), pad=(0,0)) for j in range(MAX_COL)] for i in range(MAX_ROWS)]\n",
    "window = sg.Window('Minesweeper', layout)\n",
    "while True:\n",
    "    event, values = window.read()\n",
    "    print (event,values)\n",
    "    if event in (None, 'Exit'):\n",
    "        break\n",
    "    select = sg.popup('マスに対する操作を選択してください',custom_text=('open', 'flag'),title='')\n",
    "    print('select', select)\n",
    "    if select is 'open':\n",
    "        window[event].update(board[event[0]][event[1]], button_color=('white','black'))\n",
    "        if board[event[0]][event[1]]==-1:\n",
    "            sg.popup(\"You Lose\")\n",
    "            break\n",
    "    elif select is 'flag':\n",
    "        state = window[event].GetText()\n",
    "        if state == '?':\n",
    "            window[event].update('F', button_color=('red',None))\n",
    "        elif state == 'F':\n",
    "            window[event].update('?', button_color=('white',None))\n",
    "window.close()\n"
   ]
  },
  {
   "cell_type": "markdown",
   "metadata": {},
   "source": [
    "# 参考文献\n",
    "- [PySimpleGUIでマインスイーパ](https://kakedashi-engineer.appspot.com/2020/04/03/simple-gui/)"
   ]
  },
  {
   "cell_type": "code",
   "execution_count": null,
   "metadata": {},
   "outputs": [],
   "source": []
  }
 ],
 "metadata": {
  "kernelspec": {
   "display_name": "Python 3",
   "language": "python",
   "name": "python3"
  },
  "language_info": {
   "codemirror_mode": {
    "name": "ipython",
    "version": 3
   },
   "file_extension": ".py",
   "mimetype": "text/x-python",
   "name": "python",
   "nbconvert_exporter": "python",
   "pygments_lexer": "ipython3",
   "version": "3.7.2"
  }
 },
 "nbformat": 4,
 "nbformat_minor": 4
}
