{
 "cells": [
  {
   "cell_type": "code",
   "execution_count": 1,
   "metadata": {},
   "outputs": [
    {
     "name": "stderr",
     "output_type": "stream",
     "text": [
      "Using TensorFlow backend.\n"
     ]
    }
   ],
   "source": [
    "import PySimpleGUI as sg\n",
    "from keras.models import load_model\n",
    "import tictactoe_env\n",
    "import cpu\n",
    "import utils\n",
    "\n",
    "# import importlib\n",
    "# importlib.reload(tictactoe_env)"
   ]
  },
  {
   "cell_type": "code",
   "execution_count": 2,
   "metadata": {},
   "outputs": [],
   "source": [
    "def show_result():\n",
    "    \"\"\"\n",
    "    勝敗を文字列に直して返す関数\n",
    "    \n",
    "    Returns\n",
    "    -------\n",
    "    - : str\n",
    "        勝敗を示す文字列\n",
    "    \"\"\"\n",
    "    if info['x_win']:\n",
    "        return 'Xの勝ちです'\n",
    "    elif info['o_win']:\n",
    "        return 'Oの勝ちです'\n",
    "    else:\n",
    "        return '引き分けです'"
   ]
  },
  {
   "cell_type": "code",
   "execution_count": 3,
   "metadata": {},
   "outputs": [],
   "source": [
    "# 学習済みモデルを読み込み\n",
    "model = load_model('../train/my_model.h5')\n",
    "# OXゲームクラスをインスタンス化\n",
    "env = tictactoe_env.TictactoeEnv()"
   ]
  },
  {
   "cell_type": "code",
   "execution_count": 4,
   "metadata": {},
   "outputs": [],
   "source": [
    "# レイアウトとウィンドウの生成\n",
    "img_e = './img/-.png'\n",
    "img_o = './img/o.png'\n",
    "img_x = './img/x.png'\n",
    "\n",
    "layout =  [\n",
    "    [sg.Button('', \n",
    "               size=(1,1), \n",
    "               key=(i,j), \n",
    "               pad=(0,0),\n",
    "               image_filename=img_e,\n",
    "               image_size=(1,1),\n",
    "               image_subsample=4,\n",
    "              ) for j in range(env.BOARD_SIZE)] for i in range(env.BOARD_SIZE)\n",
    "]\n",
    "\n",
    "window = sg.Window('AI×OXゲーム', layout)"
   ]
  },
  {
   "cell_type": "code",
   "execution_count": 5,
   "metadata": {},
   "outputs": [
    {
     "ename": "RuntimeError",
     "evalue": "tk.h version (8.6) doesn't match libtk.a version (8.5)",
     "output_type": "error",
     "traceback": [
      "\u001b[0;31m---------------------------------------------------------------------------\u001b[0m",
      "\u001b[0;31mRuntimeError\u001b[0m                              Traceback (most recent call last)",
      "\u001b[0;32m<ipython-input-5-884abe3c9f90>\u001b[0m in \u001b[0;36m<module>\u001b[0;34m\u001b[0m\n\u001b[1;32m      1\u001b[0m \u001b[0;31m# イベントループ\u001b[0m\u001b[0;34m\u001b[0m\u001b[0;34m\u001b[0m\u001b[0;34m\u001b[0m\u001b[0m\n\u001b[1;32m      2\u001b[0m \u001b[0;32mwhile\u001b[0m \u001b[0;32mTrue\u001b[0m\u001b[0;34m:\u001b[0m\u001b[0;34m\u001b[0m\u001b[0;34m\u001b[0m\u001b[0m\n\u001b[0;32m----> 3\u001b[0;31m     \u001b[0mevent\u001b[0m\u001b[0;34m,\u001b[0m \u001b[0mvalues\u001b[0m \u001b[0;34m=\u001b[0m \u001b[0mwindow\u001b[0m\u001b[0;34m.\u001b[0m\u001b[0mread\u001b[0m\u001b[0;34m(\u001b[0m\u001b[0;34m)\u001b[0m\u001b[0;34m\u001b[0m\u001b[0;34m\u001b[0m\u001b[0m\n\u001b[0m\u001b[1;32m      4\u001b[0m \u001b[0;34m\u001b[0m\u001b[0m\n\u001b[1;32m      5\u001b[0m     \u001b[0;31m# ウィンドウを閉じる\u001b[0m\u001b[0;34m\u001b[0m\u001b[0;34m\u001b[0m\u001b[0;34m\u001b[0m\u001b[0m\n",
      "\u001b[0;32m~/Documents/pj_2019-b3-new-display/ai-tictactoe/env/lib/python3.7/site-packages/PySimpleGUI/PySimpleGUI.py\u001b[0m in \u001b[0;36mRead\u001b[0;34m(self, timeout, timeout_key, close)\u001b[0m\n\u001b[1;32m   6955\u001b[0m         \u001b[0;32mif\u001b[0m \u001b[0;32mnot\u001b[0m \u001b[0mWindow\u001b[0m\u001b[0;34m.\u001b[0m\u001b[0m_read_call_from_debugger\u001b[0m\u001b[0;34m:\u001b[0m\u001b[0;34m\u001b[0m\u001b[0;34m\u001b[0m\u001b[0m\n\u001b[1;32m   6956\u001b[0m             \u001b[0m_refresh_debugger\u001b[0m\u001b[0;34m(\u001b[0m\u001b[0;34m)\u001b[0m\u001b[0;34m\u001b[0m\u001b[0;34m\u001b[0m\u001b[0m\n\u001b[0;32m-> 6957\u001b[0;31m         \u001b[0mresults\u001b[0m \u001b[0;34m=\u001b[0m \u001b[0mself\u001b[0m\u001b[0;34m.\u001b[0m\u001b[0m_read\u001b[0m\u001b[0;34m(\u001b[0m\u001b[0mtimeout\u001b[0m\u001b[0;34m=\u001b[0m\u001b[0mtimeout\u001b[0m\u001b[0;34m,\u001b[0m \u001b[0mtimeout_key\u001b[0m\u001b[0;34m=\u001b[0m\u001b[0mtimeout_key\u001b[0m\u001b[0;34m)\u001b[0m\u001b[0;34m\u001b[0m\u001b[0;34m\u001b[0m\u001b[0m\n\u001b[0m\u001b[1;32m   6958\u001b[0m         \u001b[0;32mif\u001b[0m \u001b[0mclose\u001b[0m\u001b[0;34m:\u001b[0m\u001b[0;34m\u001b[0m\u001b[0;34m\u001b[0m\u001b[0m\n\u001b[1;32m   6959\u001b[0m             \u001b[0mself\u001b[0m\u001b[0;34m.\u001b[0m\u001b[0mclose\u001b[0m\u001b[0;34m(\u001b[0m\u001b[0;34m)\u001b[0m\u001b[0;34m\u001b[0m\u001b[0;34m\u001b[0m\u001b[0m\n",
      "\u001b[0;32m~/Documents/pj_2019-b3-new-display/ai-tictactoe/env/lib/python3.7/site-packages/PySimpleGUI/PySimpleGUI.py\u001b[0m in \u001b[0;36m_read\u001b[0;34m(self, timeout, timeout_key)\u001b[0m\n\u001b[1;32m   6993\u001b[0m             \u001b[0;32mreturn\u001b[0m \u001b[0;32mNone\u001b[0m\u001b[0;34m,\u001b[0m \u001b[0;32mNone\u001b[0m\u001b[0;34m\u001b[0m\u001b[0;34m\u001b[0m\u001b[0m\n\u001b[1;32m   6994\u001b[0m         \u001b[0;32mif\u001b[0m \u001b[0;32mnot\u001b[0m \u001b[0mself\u001b[0m\u001b[0;34m.\u001b[0m\u001b[0mShown\u001b[0m\u001b[0;34m:\u001b[0m\u001b[0;34m\u001b[0m\u001b[0;34m\u001b[0m\u001b[0m\n\u001b[0;32m-> 6995\u001b[0;31m             \u001b[0mself\u001b[0m\u001b[0;34m.\u001b[0m\u001b[0m_Show\u001b[0m\u001b[0;34m(\u001b[0m\u001b[0;34m)\u001b[0m\u001b[0;34m\u001b[0m\u001b[0;34m\u001b[0m\u001b[0m\n\u001b[0m\u001b[1;32m   6996\u001b[0m         \u001b[0;32melse\u001b[0m\u001b[0;34m:\u001b[0m\u001b[0;34m\u001b[0m\u001b[0;34m\u001b[0m\u001b[0m\n\u001b[1;32m   6997\u001b[0m             \u001b[0;31m# if already have a button waiting, the return previously built results\u001b[0m\u001b[0;34m\u001b[0m\u001b[0;34m\u001b[0m\u001b[0;34m\u001b[0m\u001b[0m\n",
      "\u001b[0;32m~/Documents/pj_2019-b3-new-display/ai-tictactoe/env/lib/python3.7/site-packages/PySimpleGUI/PySimpleGUI.py\u001b[0m in \u001b[0;36m_Show\u001b[0;34m(self, non_blocking)\u001b[0m\n\u001b[1;32m   6829\u001b[0m             \u001b[0mself\u001b[0m\u001b[0;34m.\u001b[0m\u001b[0mUseDefaultFocus\u001b[0m \u001b[0;34m=\u001b[0m \u001b[0;32mFalse\u001b[0m\u001b[0;34m\u001b[0m\u001b[0;34m\u001b[0m\u001b[0m\n\u001b[1;32m   6830\u001b[0m         \u001b[0;31m# -=-=-=-=-=-=-=-=- RUN the GUI -=-=-=-=-=-=-=-=- ##\u001b[0m\u001b[0;34m\u001b[0m\u001b[0;34m\u001b[0m\u001b[0;34m\u001b[0m\u001b[0m\n\u001b[0;32m-> 6831\u001b[0;31m         \u001b[0mStartupTK\u001b[0m\u001b[0;34m(\u001b[0m\u001b[0mself\u001b[0m\u001b[0;34m)\u001b[0m\u001b[0;34m\u001b[0m\u001b[0;34m\u001b[0m\u001b[0m\n\u001b[0m\u001b[1;32m   6832\u001b[0m         \u001b[0;31m# If a button or keyboard event happened but no results have been built, build the results\u001b[0m\u001b[0;34m\u001b[0m\u001b[0;34m\u001b[0m\u001b[0;34m\u001b[0m\u001b[0m\n\u001b[1;32m   6833\u001b[0m         \u001b[0;32mif\u001b[0m \u001b[0mself\u001b[0m\u001b[0;34m.\u001b[0m\u001b[0mLastKeyboardEvent\u001b[0m \u001b[0;32mis\u001b[0m \u001b[0;32mnot\u001b[0m \u001b[0;32mNone\u001b[0m \u001b[0;32mor\u001b[0m \u001b[0mself\u001b[0m\u001b[0;34m.\u001b[0m\u001b[0mLastButtonClicked\u001b[0m \u001b[0;32mis\u001b[0m \u001b[0;32mnot\u001b[0m \u001b[0;32mNone\u001b[0m\u001b[0;34m:\u001b[0m\u001b[0;34m\u001b[0m\u001b[0;34m\u001b[0m\u001b[0m\n",
      "\u001b[0;32m~/Documents/pj_2019-b3-new-display/ai-tictactoe/env/lib/python3.7/site-packages/PySimpleGUI/PySimpleGUI.py\u001b[0m in \u001b[0;36mStartupTK\u001b[0;34m(my_flex_form)\u001b[0m\n\u001b[1;32m  11255\u001b[0m         \u001b[0;31m# hidden window\u001b[0m\u001b[0;34m\u001b[0m\u001b[0;34m\u001b[0m\u001b[0;34m\u001b[0m\u001b[0m\n\u001b[1;32m  11256\u001b[0m         \u001b[0mWindow\u001b[0m\u001b[0;34m.\u001b[0m\u001b[0m_IncrementOpenCount\u001b[0m\u001b[0;34m(\u001b[0m\u001b[0;34m)\u001b[0m\u001b[0;34m\u001b[0m\u001b[0;34m\u001b[0m\u001b[0m\n\u001b[0;32m> 11257\u001b[0;31m         \u001b[0mWindow\u001b[0m\u001b[0;34m.\u001b[0m\u001b[0mhidden_master_root\u001b[0m \u001b[0;34m=\u001b[0m \u001b[0mtk\u001b[0m\u001b[0;34m.\u001b[0m\u001b[0mTk\u001b[0m\u001b[0;34m(\u001b[0m\u001b[0;34m)\u001b[0m\u001b[0;34m\u001b[0m\u001b[0;34m\u001b[0m\u001b[0m\n\u001b[0m\u001b[1;32m  11258\u001b[0m         \u001b[0mWindow\u001b[0m\u001b[0;34m.\u001b[0m\u001b[0mhidden_master_root\u001b[0m\u001b[0;34m.\u001b[0m\u001b[0mattributes\u001b[0m\u001b[0;34m(\u001b[0m\u001b[0;34m'-alpha'\u001b[0m\u001b[0;34m,\u001b[0m \u001b[0;36m0\u001b[0m\u001b[0;34m)\u001b[0m  \u001b[0;31m# HIDE this window really really really\u001b[0m\u001b[0;34m\u001b[0m\u001b[0;34m\u001b[0m\u001b[0m\n\u001b[1;32m  11259\u001b[0m         \u001b[0mWindow\u001b[0m\u001b[0;34m.\u001b[0m\u001b[0mhidden_master_root\u001b[0m\u001b[0;34m.\u001b[0m\u001b[0mwm_overrideredirect\u001b[0m\u001b[0;34m(\u001b[0m\u001b[0;32mTrue\u001b[0m\u001b[0;34m)\u001b[0m\u001b[0;34m\u001b[0m\u001b[0;34m\u001b[0m\u001b[0m\n",
      "\u001b[0;32m~/.pyenv/versions/3.7.2/lib/python3.7/tkinter/__init__.py\u001b[0m in \u001b[0;36m__init__\u001b[0;34m(self, screenName, baseName, className, useTk, sync, use)\u001b[0m\n\u001b[1;32m   2023\u001b[0m         \u001b[0mself\u001b[0m\u001b[0;34m.\u001b[0m\u001b[0mtk\u001b[0m \u001b[0;34m=\u001b[0m \u001b[0m_tkinter\u001b[0m\u001b[0;34m.\u001b[0m\u001b[0mcreate\u001b[0m\u001b[0;34m(\u001b[0m\u001b[0mscreenName\u001b[0m\u001b[0;34m,\u001b[0m \u001b[0mbaseName\u001b[0m\u001b[0;34m,\u001b[0m \u001b[0mclassName\u001b[0m\u001b[0;34m,\u001b[0m \u001b[0minteractive\u001b[0m\u001b[0;34m,\u001b[0m \u001b[0mwantobjects\u001b[0m\u001b[0;34m,\u001b[0m \u001b[0museTk\u001b[0m\u001b[0;34m,\u001b[0m \u001b[0msync\u001b[0m\u001b[0;34m,\u001b[0m \u001b[0muse\u001b[0m\u001b[0;34m)\u001b[0m\u001b[0;34m\u001b[0m\u001b[0;34m\u001b[0m\u001b[0m\n\u001b[1;32m   2024\u001b[0m         \u001b[0;32mif\u001b[0m \u001b[0museTk\u001b[0m\u001b[0;34m:\u001b[0m\u001b[0;34m\u001b[0m\u001b[0;34m\u001b[0m\u001b[0m\n\u001b[0;32m-> 2025\u001b[0;31m             \u001b[0mself\u001b[0m\u001b[0;34m.\u001b[0m\u001b[0m_loadtk\u001b[0m\u001b[0;34m(\u001b[0m\u001b[0;34m)\u001b[0m\u001b[0;34m\u001b[0m\u001b[0;34m\u001b[0m\u001b[0m\n\u001b[0m\u001b[1;32m   2026\u001b[0m         \u001b[0;32mif\u001b[0m \u001b[0;32mnot\u001b[0m \u001b[0msys\u001b[0m\u001b[0;34m.\u001b[0m\u001b[0mflags\u001b[0m\u001b[0;34m.\u001b[0m\u001b[0mignore_environment\u001b[0m\u001b[0;34m:\u001b[0m\u001b[0;34m\u001b[0m\u001b[0;34m\u001b[0m\u001b[0m\n\u001b[1;32m   2027\u001b[0m             \u001b[0;31m# Issue #16248: Honor the -E flag to avoid code injection.\u001b[0m\u001b[0;34m\u001b[0m\u001b[0;34m\u001b[0m\u001b[0;34m\u001b[0m\u001b[0m\n",
      "\u001b[0;32m~/.pyenv/versions/3.7.2/lib/python3.7/tkinter/__init__.py\u001b[0m in \u001b[0;36m_loadtk\u001b[0;34m(self)\u001b[0m\n\u001b[1;32m   2038\u001b[0m         \u001b[0;32mif\u001b[0m \u001b[0mtk_version\u001b[0m \u001b[0;34m!=\u001b[0m \u001b[0m_tkinter\u001b[0m\u001b[0;34m.\u001b[0m\u001b[0mTK_VERSION\u001b[0m\u001b[0;34m:\u001b[0m\u001b[0;34m\u001b[0m\u001b[0;34m\u001b[0m\u001b[0m\n\u001b[1;32m   2039\u001b[0m             raise RuntimeError(\"tk.h version (%s) doesn't match libtk.a version (%s)\"\n\u001b[0;32m-> 2040\u001b[0;31m                                % (_tkinter.TK_VERSION, tk_version))\n\u001b[0m\u001b[1;32m   2041\u001b[0m         \u001b[0;31m# Under unknown circumstances, tcl_version gets coerced to float\u001b[0m\u001b[0;34m\u001b[0m\u001b[0;34m\u001b[0m\u001b[0;34m\u001b[0m\u001b[0m\n\u001b[1;32m   2042\u001b[0m         \u001b[0mtcl_version\u001b[0m \u001b[0;34m=\u001b[0m \u001b[0mstr\u001b[0m\u001b[0;34m(\u001b[0m\u001b[0mself\u001b[0m\u001b[0;34m.\u001b[0m\u001b[0mtk\u001b[0m\u001b[0;34m.\u001b[0m\u001b[0mgetvar\u001b[0m\u001b[0;34m(\u001b[0m\u001b[0;34m'tcl_version'\u001b[0m\u001b[0;34m)\u001b[0m\u001b[0;34m)\u001b[0m\u001b[0;34m\u001b[0m\u001b[0;34m\u001b[0m\u001b[0m\n",
      "\u001b[0;31mRuntimeError\u001b[0m: tk.h version (8.6) doesn't match libtk.a version (8.5)"
     ]
    }
   ],
   "source": [
    "# イベントループ\n",
    "while True:\n",
    "    event, values = window.read()\n",
    "\n",
    "    # ウィンドウを閉じる\n",
    "    if event is None:\n",
    "        print('exit')\n",
    "        break\n",
    "    \n",
    "    print(event, values)\n",
    "    \n",
    "    # プレーヤのターン\n",
    "    index, is_fin, info, valid = env.put(utils.conv2dto1d(event[0], event[1], env.BOARD_SIZE))\n",
    "    if not valid:\n",
    "        sg.popup('すでに置かれています！')\n",
    "        continue\n",
    "    window[event].update('', image_filename=img_x, image_size=(1,1), image_subsample=4)\n",
    "    \n",
    "    print(env.board.reshape(3, 3))\n",
    "    print(info)\n",
    "    \n",
    "    if is_fin:\n",
    "        sg.popup(show_result(), custom_text=('もう一回'), title='対戦結果')\n",
    "        env = tictactoe_env.TictactoeEnv()\n",
    "        [window[utils.conv1dto2d(i, env.BOARD_SIZE)].update('', image_filename=img_e, image_size=(1,1), image_subsample=4) for i in range(env.BOARD_SIZE * env.BOARD_SIZE)]\n",
    "        continue\n",
    "        \n",
    "    # CPUのターン\n",
    "    index, is_fin, info, valid = env.put(cpu.cpu(env, model))\n",
    "    window[utils.conv1dto2d(index, env.BOARD_SIZE)].update('',\n",
    "                                                           image_filename=img_o,\n",
    "                                                           image_size=(1,1),\n",
    "                                                           image_subsample=4\n",
    "                                                          )\n",
    "    \n",
    "    print(env.board.reshape(3, 3))\n",
    "    print(info)\n",
    "    \n",
    "    if is_fin:\n",
    "        sg.popup(show_result(), custom_text=('もう一回'), title='対戦結果')\n",
    "        env = tictactoe_env.TictactoeEnv()\n",
    "        [window[utils.conv1dto2d(i, env.BOARD_SIZE)].update('', image_filename=img_e, image_size=(1,1), image_subsample=4) for i in range(env.BOARD_SIZE * env.BOARD_SIZE)]\n",
    "        continue\n",
    "    \n",
    "# ウィンドウの破棄と終了\n",
    "window.close()"
   ]
  },
  {
   "cell_type": "code",
   "execution_count": null,
   "metadata": {},
   "outputs": [],
   "source": []
  },
  {
   "cell_type": "markdown",
   "metadata": {},
   "source": []
  }
 ],
 "metadata": {
  "kernelspec": {
   "display_name": "Python 3",
   "language": "python",
   "name": "python3"
  },
  "language_info": {
   "codemirror_mode": {
    "name": "ipython",
    "version": 3
   },
   "file_extension": ".py",
   "mimetype": "text/x-python",
   "name": "python",
   "nbconvert_exporter": "python",
   "pygments_lexer": "ipython3",
   "version": "3.7.2"
  }
 },
 "nbformat": 4,
 "nbformat_minor": 4
}
