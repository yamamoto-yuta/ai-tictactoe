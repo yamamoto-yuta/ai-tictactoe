{
 "cells": [
  {
   "cell_type": "code",
   "execution_count": null,
   "metadata": {},
   "outputs": [],
   "source": [
    "import PySimpleGUI as sg\n",
    "\n",
    "#  セクション1 - オプションの設定と標準レイアウト\n",
    "sg.theme('Dark Blue 3')\n",
    "\n",
    "layout = [\n",
    "    [sg.Text('Python GUI')],\n",
    "    [sg.Text('名前', size=(15, 1)), sg.InputText('○○〇×××')],\n",
    "    [sg.Text('住所', size=(15, 1)), sg.InputText('△△△△村')],\n",
    "    [sg.Text('電話番号', size=(15, 1)), sg.InputText('xxx-xxx-xxx')],\n",
    "    [sg.Submit(button_text='実行ボタン')]\n",
    "]\n",
    "\n",
    "# セクション 2 - ウィンドウの生成\n",
    "window = sg.Window('住所を入力', layout)\n",
    "\n",
    "# セクション 3 - イベントループ\n",
    "while True:\n",
    "    event, values = window.read()\n",
    "\n",
    "    if event is None:\n",
    "        print('exit')\n",
    "        break\n",
    "\n",
    "    if event == '実行ボタン':\n",
    "        show_message = \"名前：\" + values[0] + 'が入力されました。\\n'\n",
    "        show_message += \"住所：\" + values[1] + 'が入力されました。\\n'\n",
    "        show_message += \"電話番号：\" + values[2] + \"が入力されました。\"\n",
    "        print(show_message)\n",
    "\n",
    "        # ポップアップ\n",
    "        sg.popup(show_message)\n",
    "\n",
    "# セクション 4 - ウィンドウの破棄と終了\n",
    "window.close()"
   ]
  },
  {
   "cell_type": "markdown",
   "metadata": {},
   "source": [
    "# 参考文献\n",
    "- [Tkinterを使うのであればPySimpleGUIを使ってみたらという話](https://qiita.com/dario_okazaki/items/656de21cab5c81cabe59#pysimplegui)"
   ]
  },
  {
   "cell_type": "code",
   "execution_count": null,
   "metadata": {},
   "outputs": [],
   "source": []
  }
 ],
 "metadata": {
  "kernelspec": {
   "display_name": "Python 3",
   "language": "python",
   "name": "python3"
  },
  "language_info": {
   "codemirror_mode": {
    "name": "ipython",
    "version": 3
   },
   "file_extension": ".py",
   "mimetype": "text/x-python",
   "name": "python",
   "nbconvert_exporter": "python",
   "pygments_lexer": "ipython3",
   "version": "3.7.2"
  }
 },
 "nbformat": 4,
 "nbformat_minor": 4
}
