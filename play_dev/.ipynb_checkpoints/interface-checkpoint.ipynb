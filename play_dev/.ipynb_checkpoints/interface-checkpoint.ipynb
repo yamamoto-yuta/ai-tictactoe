{
 "cells": [
  {
   "cell_type": "code",
   "execution_count": 1,
   "metadata": {},
   "outputs": [
    {
     "name": "stderr",
     "output_type": "stream",
     "text": [
      "Using TensorFlow backend.\n"
     ]
    }
   ],
   "source": [
    "import PySimpleGUI as sg\n",
    "from keras.models import load_model\n",
    "import tictactoe_env\n",
    "import cpu\n",
    "import utils\n",
    "\n",
    "# import importlib\n",
    "# importlib.reload(tictactoe_env)"
   ]
  },
  {
   "cell_type": "code",
   "execution_count": 2,
   "metadata": {},
   "outputs": [],
   "source": [
    "def show_result():\n",
    "    \"\"\"\n",
    "    勝敗を文字列に直して返す関数\n",
    "    \n",
    "    Returns\n",
    "    -------\n",
    "    - : str\n",
    "        勝敗を示す文字列\n",
    "    \"\"\"\n",
    "    if info['x_win']:\n",
    "        return 'Xの勝ちです'\n",
    "    elif info['o_win']:\n",
    "        return 'Oの勝ちです'\n",
    "    else:\n",
    "        return '引き分けです'"
   ]
  },
  {
   "cell_type": "code",
   "execution_count": 3,
   "metadata": {},
   "outputs": [],
   "source": [
    "# 学習済みモデルを読み込み\n",
    "model = load_model('../train/my_model.h5')\n",
    "# OXゲームクラスをインスタンス化\n",
    "env = tictactoe_env.TictactoeEnv()"
   ]
  },
  {
   "cell_type": "code",
   "execution_count": 4,
   "metadata": {},
   "outputs": [],
   "source": [
    "# レイアウトとウィンドウの生成\n",
    "img_e = './img/-.png'\n",
    "img_o = './img/o.png'\n",
    "img_x = './img/x.png'\n",
    "\n",
    "layout =  [\n",
    "    [sg.Button('', \n",
    "               size=(1,1), \n",
    "               key=(i,j), \n",
    "               pad=(0,0),\n",
    "               image_filename=img_e,\n",
    "               image_size=(1,1),\n",
    "               image_subsample=4,\n",
    "              ) for j in range(env.BOARD_SIZE)] for i in range(env.BOARD_SIZE)\n",
    "]\n",
    "\n",
    "window = sg.Window('AI×OXゲーム', layout)"
   ]
  },
  {
   "cell_type": "code",
   "execution_count": 5,
   "metadata": {},
   "outputs": [
    {
     "name": "stdout",
     "output_type": "stream",
     "text": [
      "(0, 0) {}\n",
      "[[-1  0  0]\n",
      " [ 0  0  0]\n",
      " [ 0  0  0]]\n",
      "{'x_win': False, 'o_win': False, 'is_full': False}\n",
      "[[-1  0  0]\n",
      " [ 0  0  0]\n",
      " [ 0  1  0]]\n",
      "{'x_win': False, 'o_win': False, 'is_full': False}\n",
      "(1, 1) {}\n",
      "[[-1  0  0]\n",
      " [ 0 -1  0]\n",
      " [ 0  1  0]]\n",
      "{'x_win': False, 'o_win': False, 'is_full': False}\n",
      "[[-1  0  0]\n",
      " [ 0 -1  0]\n",
      " [ 0  1  1]]\n",
      "{'x_win': False, 'o_win': False, 'is_full': False}\n",
      "(2, 0) {}\n",
      "[[-1  0  0]\n",
      " [ 0 -1  0]\n",
      " [-1  1  1]]\n",
      "{'x_win': False, 'o_win': False, 'is_full': False}\n",
      "[[-1  0  1]\n",
      " [ 0 -1  0]\n",
      " [-1  1  1]]\n",
      "{'x_win': False, 'o_win': False, 'is_full': False}\n",
      "exit\n"
     ]
    }
   ],
   "source": [
    "# イベントループ\n",
    "while True:\n",
    "    event, values = window.read()\n",
    "\n",
    "    # ウィンドウを閉じる\n",
    "    if event is None:\n",
    "        print('exit')\n",
    "        break\n",
    "    \n",
    "    print(event, values)\n",
    "    \n",
    "    # プレーヤのターン\n",
    "    index, is_fin, info, valid = env.put(utils.conv2dto1d(event[0], event[1], env.BOARD_SIZE))\n",
    "    if not valid:\n",
    "        sg.popup('すでに置かれています！')\n",
    "        continue\n",
    "    window[event].update('', image_filename=img_x, image_size=(1,1), image_subsample=4)\n",
    "    \n",
    "    print(env.board.reshape(3, 3))\n",
    "    print(info)\n",
    "    \n",
    "    if is_fin:\n",
    "        sg.popup(show_result(), custom_text=('もう一回'), title='対戦結果')\n",
    "        env = tictactoe_env.TictactoeEnv()\n",
    "        [window[utils.conv1dto2d(i, env.BOARD_SIZE)].update('', image_filename=img_e, image_size=(1,1), image_subsample=4) for i in range(env.BOARD_SIZE * env.BOARD_SIZE)]\n",
    "        continue\n",
    "        \n",
    "    # CPUのターン\n",
    "    index, is_fin, info, valid = env.put(cpu.cpu(env, model))\n",
    "    window[utils.conv1dto2d(index, env.BOARD_SIZE)].update('',\n",
    "                                                           image_filename=img_o,\n",
    "                                                           image_size=(1,1),\n",
    "                                                           image_subsample=4\n",
    "                                                          )\n",
    "    \n",
    "    print(env.board.reshape(3, 3))\n",
    "    print(info)\n",
    "    \n",
    "    if is_fin:\n",
    "        sg.popup(show_result(), custom_text=('もう一回'), title='対戦結果')\n",
    "        env = tictactoe_env.TictactoeEnv()\n",
    "        [window[utils.conv1dto2d(i, env.BOARD_SIZE)].update('', image_filename=img_e, image_size=(1,1), image_subsample=4) for i in range(env.BOARD_SIZE * env.BOARD_SIZE)]\n",
    "        continue\n",
    "    \n",
    "# ウィンドウの破棄と終了\n",
    "window.close()"
   ]
  },
  {
   "cell_type": "code",
   "execution_count": null,
   "metadata": {},
   "outputs": [],
   "source": []
  },
  {
   "cell_type": "markdown",
   "metadata": {},
   "source": []
  }
 ],
 "metadata": {
  "kernelspec": {
   "display_name": "Python 3",
   "language": "python",
   "name": "python3"
  },
  "language_info": {
   "codemirror_mode": {
    "name": "ipython",
    "version": 3
   },
   "file_extension": ".py",
   "mimetype": "text/x-python",
   "name": "python",
   "nbconvert_exporter": "python",
   "pygments_lexer": "ipython3",
   "version": "3.7.2"
  }
 },
 "nbformat": 4,
 "nbformat_minor": 4
}
