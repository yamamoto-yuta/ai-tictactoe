{
 "cells": [
  {
   "cell_type": "code",
   "execution_count": 1,
   "metadata": {},
   "outputs": [],
   "source": [
    "import numpy as np"
   ]
  },
  {
   "cell_type": "code",
   "execution_count": 2,
   "metadata": {},
   "outputs": [],
   "source": [
    "class TictactoeEnv:\n",
    "    def __init__(self, board_size=3, first_player=-1):\n",
    "        \"\"\"\n",
    "        コンストラクタ\n",
    "        \n",
    "        Parameters\n",
    "        ----------\n",
    "        board_size ; int\n",
    "            ボードのサイズ\n",
    "        first_player : str\n",
    "            先攻のプレーヤ\n",
    "            -1(X) か 1(O) を指定\n",
    "        \"\"\"\n",
    "        # 定数\n",
    "        self.BOARD_SIZE = board_size\n",
    "        self.O_ID = 1\n",
    "        self.E_ID = 0\n",
    "        self.X_ID = -1\n",
    "        \n",
    "        # 初期化\n",
    "        self.board = None\n",
    "        self.first_player = first_player\n",
    "        self.current_player = None\n",
    "        self.result = None\n",
    "        self.reset()\n",
    "        \n",
    "    def reset(self):\n",
    "        \"\"\"\n",
    "        ゲームを初期化する関数\n",
    "        \"\"\"\n",
    "        self.board = np.zeros(9, dtype=np.int32)\n",
    "        self.current_player = self.first_player\n",
    "        \n",
    "    def put(self, index):\n",
    "        \"\"\"\n",
    "        OXを置く関数\n",
    "        \n",
    "        Parameters\n",
    "        ----------\n",
    "        index : int\n",
    "            置く座標\n",
    "            \n",
    "        Returns\n",
    "        -------\n",
    "        is_fin : bool\n",
    "            勝敗が着いたかどうか\n",
    "        info : {'x_win': bool, 'o_win': bool, 'is_full': bool}\n",
    "            勝敗の情報\n",
    "        valid : bool\n",
    "            ちゃんと置けたかどうか\n",
    "        \"\"\"\n",
    "        # OXを置く\n",
    "        if self.board[index] != self.E_ID:\n",
    "            # その座標にもうすでにOXが置かれている場合\n",
    "            return None, None, False\n",
    "        elif self.current_player == self.X_ID:\n",
    "            # 現在のプレーヤがXの場合\n",
    "            self.board[index] = self.X_ID\n",
    "            self.current_player = self.O_ID\n",
    "        else:\n",
    "            # 現在のプレーヤがOの場合\n",
    "            self.board[index] = self.O_ID\n",
    "            self.current_player = self.X_ID\n",
    "        \n",
    "        # 勝敗を判定\n",
    "        is_fin, info = self.judge()\n",
    "        \n",
    "        return is_fin, info, True\n",
    "    \n",
    "    \n",
    "    def judge(self):\n",
    "        \"\"\"\n",
    "        ゲームの勝敗を判定する関数\n",
    "        \n",
    "        Returns\n",
    "        -------\n",
    "        is_fin : bool\n",
    "            決着が着いたかどうか\n",
    "        {\n",
    "            x_win : bool\n",
    "                Xが勝ったかどうか\n",
    "            o_win : bool\n",
    "                Oが勝ったかどうか\n",
    "            is_full : bool\n",
    "                ボードが全て埋まったかどうか\n",
    "        }\n",
    "        \"\"\"\n",
    "        x_win, o_win, is_full = False, False, False\n",
    "        \n",
    "        # 縦と横を調べる\n",
    "        for i in range(self.BOARD_SIZE):\n",
    "            row = self.board[(i * self.BOARD_SIZE) : (i * self.BOARD_SIZE + self.BOARD_SIZE)]\n",
    "            col = self.board[i::self.BOARD_SIZE]\n",
    "            if np.sum(row) == self.BOARD_SIZE or np.sum(col) == self.BOARD_SIZE:\n",
    "                o_win = True\n",
    "            if np.sum(row) == -self.BOARD_SIZE or np.sum(col) == -self.BOARD_SIZE:\n",
    "                x_win = True\n",
    "        \n",
    "        \n",
    "        # 斜めを調べる\n",
    "        board = self.board.reshape(3, 3)\n",
    "        if np.diag(board).sum() == self.BOARD_SIZE or np.diag(np.fliplr(board)).sum() == self.BOARD_SIZE:\n",
    "            o_win = True\n",
    "        if np.diag(board).sum() == -self.BOARD_SIZE or np.diag(np.fliplr(board)).sum() == -self.BOARD_SIZE:\n",
    "            x_win = True\n",
    "            \n",
    "        # ボードが全て埋まっているか調べる\n",
    "        if self.E_ID not in self.board:\n",
    "            is_full = True\n",
    "            \n",
    "        # 決着が着いたかどうか調べる\n",
    "        is_fin = x_win or o_win or is_full\n",
    "        \n",
    "        return is_fin, {'x_win': x_win, 'o_win': o_win, 'is_full': is_full}"
   ]
  },
  {
   "cell_type": "code",
   "execution_count": 3,
   "metadata": {},
   "outputs": [
    {
     "name": "stdout",
     "output_type": "stream",
     "text": [
      "[[0 0 0]\n",
      " [0 0 0]\n",
      " [0 0 0]]\n"
     ]
    }
   ],
   "source": [
    "env = TictactoeEnv()\n",
    "print(env.board.reshape(3, 3))"
   ]
  },
  {
   "cell_type": "code",
   "execution_count": null,
   "metadata": {},
   "outputs": [],
   "source": [
    "012\n",
    "345\n",
    "678"
   ]
  },
  {
   "cell_type": "code",
   "execution_count": 135,
   "metadata": {},
   "outputs": [
    {
     "data": {
      "text/plain": [
       "(True, {'x_win': True, 'o_win': False, 'is_full': False})"
      ]
     },
     "execution_count": 135,
     "metadata": {},
     "output_type": "execute_result"
    }
   ],
   "source": [
    "board = np.array([\n",
    "    -1, 0, 0,\n",
    "    0, -1, 0,\n",
    "    0, 0, -1\n",
    "])\n",
    "env.board = board\n",
    "env.judge()"
   ]
  },
  {
   "cell_type": "code",
   "execution_count": null,
   "metadata": {},
   "outputs": [],
   "source": []
  }
 ],
 "metadata": {
  "kernelspec": {
   "display_name": "Python 3",
   "language": "python",
   "name": "python3"
  },
  "language_info": {
   "codemirror_mode": {
    "name": "ipython",
    "version": 3
   },
   "file_extension": ".py",
   "mimetype": "text/x-python",
   "name": "python",
   "nbconvert_exporter": "python",
   "pygments_lexer": "ipython3",
   "version": "3.7.2"
  }
 },
 "nbformat": 4,
 "nbformat_minor": 4
}
